{
 "cells": [
  {
   "cell_type": "code",
   "execution_count": null,
   "id": "9da18058",
   "metadata": {},
   "outputs": [],
   "source": [
    "from flask import Flask, render_template, send_file\n",
    "import pandas as pd\n",
    "from io import BytesIO\n",
    "\n",
    "app = Flask(__name__)\n",
    "\n",
    "@app.route(\"/\")\n",
    "def index():\n",
    "    return render_template(\"index.html\")\n",
    "\n",
    "@app.route(\"/leaves_summary\")\n",
    "def leaves_summary():\n",
    " \n",
    "    df = pd.read_csv('/home/ec2-user/your_project/on_leaves.csv', header=0)\n",
    "\n",
    "    table_html = df.to_html(classes=\"table table-striped table-hover table-sm\", index=False, border=0)\n",
    "\n",
    "    return render_template(\"summary.html\", data=table_html)\n",
    "\n",
    "@app.route(\"/download_excel\")\n",
    "def download_excel():\n",
    "\n",
    "    df = pd.read_csv('/home/ec2-user/your_project/on_leaves.csv', header=0)\n",
    "\n",
    "    output = BytesIO()\n",
    "    with pd.ExcelWriter(output, engine='xlsxwriter') as writer:\n",
    "        df.to_excel(writer, index=False, sheet_name='Leave Summary')\n",
    "    output.seek(0)\n",
    "    return send_file(output, as_attachment=True, download_name=\"leave_summary.xlsx\", mimetype=\"application/vnd.openxmlformats-officedocument.spreadsheetml.sheet\")\n",
    "\n",
    "if __name__ == \"__main__\":\n",
    "    app.run(host='0.0.0.0', port=5000)\n"
   ]
  }
 ],
 "metadata": {
  "kernelspec": {
   "display_name": "Python 3 (ipykernel)",
   "language": "python",
   "name": "python3"
  },
  "language_info": {
   "codemirror_mode": {
    "name": "ipython",
    "version": 3
   },
   "file_extension": ".py",
   "mimetype": "text/x-python",
   "name": "python",
   "nbconvert_exporter": "python",
   "pygments_lexer": "ipython3",
   "version": "3.9.13"
  }
 },
 "nbformat": 4,
 "nbformat_minor": 5
}
